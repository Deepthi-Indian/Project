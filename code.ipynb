{
  "nbformat": 4,
  "nbformat_minor": 0,
  "metadata": {
    "colab": {
      "name": "trail_import.ipynb",
      "provenance": [],
      "collapsed_sections": []
    },
    "kernelspec": {
      "name": "python3",
      "display_name": "Python 3"
    },
    "language_info": {
      "name": "python"
    },
    "gpuClass": "standard"
  },
  "cells": [
    {
      "cell_type": "code",
      "execution_count": null,
      "metadata": {
        "id": "TqXHxp2I0y8g"
      },
      "outputs": [],
      "source": [
        "from google.colab import drive"
      ]
    },
    {
      "cell_type": "code",
      "source": [
        "drive.mount('/content/drive')"
      ],
      "metadata": {
        "colab": {
          "base_uri": "https://localhost:8080/"
        },
        "id": "5iVFiinm1Jz-",
        "outputId": "a2bb016e-2edc-4bcb-f9cc-4087acdca2a5"
      },
      "execution_count": null,
      "outputs": [
        {
          "output_type": "stream",
          "name": "stdout",
          "text": [
            "Drive already mounted at /content/drive; to attempt to forcibly remount, call drive.mount(\"/content/drive\", force_remount=True).\n"
          ]
        }
      ]
    },
    {
      "cell_type": "code",
      "source": [
        "from google.colab import drive\n",
        "drive.mount('/content/drive')"
      ],
      "metadata": {
        "colab": {
          "base_uri": "https://localhost:8080/"
        },
        "id": "2RJBs_vKGxr9",
        "outputId": "f44d5170-24c3-41bd-c1a2-31af53dd28c6"
      },
      "execution_count": null,
      "outputs": [
        {
          "output_type": "stream",
          "name": "stdout",
          "text": [
            "Drive already mounted at /content/drive; to attempt to forcibly remount, call drive.mount(\"/content/drive\", force_remount=True).\n"
          ]
        }
      ]
    },
    {
      "cell_type": "markdown",
      "source": [
        "**Resize the Images**"
      ],
      "metadata": {
        "id": "Uj6uu1vJMCD9"
      }
    },
    {
      "cell_type": "code",
      "source": [
        "import PIL\n",
        "import os\n",
        "import os.path\n",
        "from PIL import Image\n",
        "\n",
        "f = \"/content/drive/MyDrive/dataset/test/covid\"\n",
        "for file in os.listdir(f):\n",
        "    f_img = f+\"/\"+file\n",
        "    img = Image.open(f_img)\n",
        "    img = img.resize((600,600))\n",
        "    \n",
        "    img.save(f_img)"
      ],
      "metadata": {
        "id": "gnfGsktsZCIQ"
      },
      "execution_count": null,
      "outputs": []
    },
    {
      "cell_type": "code",
      "source": [
        "import PIL\n",
        "import os\n",
        "import os.path\n",
        "from PIL import Image\n",
        "\n",
        "f = \"/content/drive/MyDrive/dataset/test/NORMAL\"\n",
        "for file in os.listdir(f):\n",
        "    f_img = f+\"/\"+file\n",
        "    img = Image.open(f_img)\n",
        "    img = img.resize((600,600))\n",
        "    img.save(f_img)"
      ],
      "metadata": {
        "id": "lTFmW-zUehIq"
      },
      "execution_count": null,
      "outputs": []
    },
    {
      "cell_type": "code",
      "source": [
        "import PIL\n",
        "import os\n",
        "import os.path\n",
        "from PIL import Image\n",
        "\n",
        "f = \"/content/drive/MyDrive/dataset/test/PNEUMONIA\"\n",
        "for file in os.listdir(f):\n",
        "    f_img = f+\"/\"+file\n",
        "    img = Image.open(f_img)\n",
        "    img = img.resize((600,600))\n",
        "    img.save(f_img)"
      ],
      "metadata": {
        "id": "_3IedsTpexKd"
      },
      "execution_count": null,
      "outputs": []
    },
    {
      "cell_type": "code",
      "source": [
        "import PIL\n",
        "import os\n",
        "import os.path\n",
        "from PIL import Image\n",
        "\n",
        "f = \"/content/drive/MyDrive/dataset/train/covid\"\n",
        "for file in os.listdir(f):\n",
        "    f_img = f+\"/\"+file\n",
        "    img = Image.open(f_img).convert('L')\n",
        "    img = img.resize((600,600))\n",
        "    img.save(f_img)"
      ],
      "metadata": {
        "id": "ObvzwB1ufEx6"
      },
      "execution_count": null,
      "outputs": []
    },
    {
      "cell_type": "code",
      "source": [
        "import PIL\n",
        "import os\n",
        "import os.path\n",
        "from PIL import Image\n",
        "\n",
        "f = \"/content/drive/MyDrive/dataset/train/normal\"\n",
        "for file in os.listdir(f):\n",
        "    f_img = f+\"/\"+file\n",
        "    img = Image.open(f_img)\n",
        "    img = img.resize((600,600))\n",
        "    img.save(f_img)"
      ],
      "metadata": {
        "id": "Alel_OdWfd-Q"
      },
      "execution_count": null,
      "outputs": []
    },
    {
      "cell_type": "code",
      "source": [
        "import PIL\n",
        "import os\n",
        "import os.path\n",
        "from PIL import Image  \n",
        "import cv2\n",
        "\n",
        "f = \"/content/drive/MyDrive/dataset/train/pneumonia\"\n",
        "for file in os.listdir(f):\n",
        "    f_img = f+\"/\"+file\n",
        "    img = Image.open(f_img)\n",
        "    img = img.resize((600,600))\n",
        "    img.save(f_img)"
      ],
      "metadata": {
        "id": "Gk8Gd_Vqfn6b"
      },
      "execution_count": null,
      "outputs": []
    },
    {
      "cell_type": "markdown",
      "source": [
        "**Apply Median filter to remove the noise from Images**"
      ],
      "metadata": {
        "id": "5q6ubrHxLyq1"
      }
    },
    {
      "cell_type": "code",
      "source": [
        "import os\n",
        "from PIL import Image,ImageFilter\n",
        "\n",
        "f = \"/content/drive/MyDrive/dataset/train/pneumonia\"\n",
        "\n",
        "for file in os.listdir(f):\n",
        "    f_img = f+\"/\"+file\n",
        "    img = Image.open(os.path.join(f_img)) \n",
        "    img = img.filter(ImageFilter.MedianFilter(size = 3))\n",
        "    img.save(f_img) "
      ],
      "metadata": {
        "id": "LRkzrouWWHx3"
      },
      "execution_count": null,
      "outputs": []
    },
    {
      "cell_type": "code",
      "source": [
        "import os\n",
        "from PIL import Image,ImageFilter\n",
        "\n",
        "f = \"/content/drive/MyDrive/dataset/test/NORMAL\"\n",
        "\n",
        "for file in os.listdir(f):\n",
        "    f_img = f+\"/\"+file\n",
        "    img = Image.open(os.path.join(f_img)) \n",
        "    img = img.filter(ImageFilter.MedianFilter(size = 3))\n",
        "    img.save(f_img) "
      ],
      "metadata": {
        "id": "t-V5GcDbiMv6"
      },
      "execution_count": null,
      "outputs": []
    },
    {
      "cell_type": "code",
      "source": [
        "import os\n",
        "from PIL import Image,ImageFilter\n",
        "\n",
        "f = \"/content/drive/MyDrive/dataset/test/PNEUMONIA\"\n",
        "\n",
        "for file in os.listdir(f):\n",
        "    f_img = f+\"/\"+file\n",
        "    img = Image.open(os.path.join(f_img)) \n",
        "    img = img.filter(ImageFilter.MedianFilter(size = 3))\n",
        "    img.save(f_img) "
      ],
      "metadata": {
        "id": "FmsRfzhq8iTy"
      },
      "execution_count": null,
      "outputs": []
    },
    {
      "cell_type": "code",
      "source": [
        "import os\n",
        "from PIL import Image,ImageFilter\n",
        "\n",
        "f = \"/content/drive/MyDrive/dataset/test/covid\"\n",
        "\n",
        "for file in os.listdir(f):\n",
        "    f_img = f+\"/\"+file\n",
        "    img = Image.open(os.path.join(f_img))\n",
        "    img = img.filter(ImageFilter.MedianFilter(size = 3))\n",
        "    img.save(f_img) "
      ],
      "metadata": {
        "id": "9M9E5lw38q10"
      },
      "execution_count": null,
      "outputs": []
    },
    {
      "cell_type": "markdown",
      "source": [
        "**Image Enhancement**"
      ],
      "metadata": {
        "id": "XQwypQV8Mvyr"
      }
    },
    {
      "cell_type": "code",
      "source": [
        "import os\n",
        "from PIL import Image,ImageFilter\n",
        "from PIL import Image, ImageEnhance\n",
        "\n",
        "f = \"/content/drive/MyDrive/dataset/test/NORMAL\"\n",
        "\n",
        "for file in os.listdir(f):\n",
        "    f_img = f+\"/\"+file\n",
        "    img = Image.open(os.path.join(f_img)).convert('L')\n",
        "    enhancer = ImageEnhance.Sharpness(img)\n",
        "    factor = 2\n",
        "    im_s_1 = enhancer.enhance(factor)\n",
        "    im_s_1.save(f_img) "
      ],
      "metadata": {
        "id": "Y2YPvNq97_qg"
      },
      "execution_count": null,
      "outputs": []
    },
    {
      "cell_type": "code",
      "source": [
        "import os\n",
        "from PIL import Image,ImageFilter\n",
        "from PIL import Image, ImageEnhance\n",
        "\n",
        "f = \"/content/drive/MyDrive/dataset/test/PNEUMONIA\"\n",
        "\n",
        "for file in os.listdir(f):\n",
        "    f_img = f+\"/\"+file\n",
        "    img = Image.open(os.path.join(f_img)).convert('L')\n",
        "    enhancer = ImageEnhance.Sharpness(img)\n",
        "    factor = 2\n",
        "    im_s_1 = enhancer.enhance(factor)\n",
        "    im_s_1.save(f_img) "
      ],
      "metadata": {
        "id": "OEFm9sPLBzD3"
      },
      "execution_count": null,
      "outputs": []
    },
    {
      "cell_type": "code",
      "source": [
        "import os\n",
        "from PIL import Image,ImageFilter\n",
        "from PIL import Image, ImageEnhance\n",
        "\n",
        "f = \"/content/drive/MyDrive/dataset/test/covid\"\n",
        "\n",
        "for file in os.listdir(f):\n",
        "    f_img = f+\"/\"+file\n",
        "    img = Image.open(os.path.join(f_img)).convert('L')\n",
        "    enhancer = ImageEnhance.Sharpness(img)\n",
        "    factor = 2\n",
        "    im_s_1 = enhancer.enhance(factor)\n",
        "    im_s_1.save(f_img) "
      ],
      "metadata": {
        "id": "8T23B5CZAoOk"
      },
      "execution_count": null,
      "outputs": []
    },
    {
      "cell_type": "code",
      "source": [
        "import os\n",
        "from PIL import Image,ImageFilter\n",
        "from PIL import Image, ImageEnhance\n",
        "\n",
        "f = \"/content/drive/MyDrive/dataset/train/covid\"\n",
        "\n",
        "for file in os.listdir(f):\n",
        "    f_img = f+\"/\"+file\n",
        "    img = Image.open(os.path.join(f_img)).convert('L')\n",
        "    enhancer = ImageEnhance.Sharpness(img)\n",
        "    factor = 2\n",
        "    im_s_1 = enhancer.enhance(factor)\n",
        "    im_s_1.save(f_img) "
      ],
      "metadata": {
        "id": "7P7nvRuGa4IY"
      },
      "execution_count": null,
      "outputs": []
    },
    {
      "cell_type": "code",
      "source": [
        "import os\n",
        "from PIL import Image,ImageFilter\n",
        "from PIL import Image, ImageEnhance\n",
        "\n",
        "f = \"/content/drive/MyDrive/dataset/train/normal\"\n",
        "\n",
        "for file in os.listdir(f):\n",
        "    f_img = f+\"/\"+file\n",
        "    img = Image.open(os.path.join(f_img)).convert('L')\n",
        "    enhancer = ImageEnhance.Sharpness(img)\n",
        "    factor = 2\n",
        "    im_s_1 = enhancer.enhance(factor)\n",
        "    im_s_1.save(f_img) "
      ],
      "metadata": {
        "id": "dyY4wv4K5Tqr"
      },
      "execution_count": null,
      "outputs": []
    },
    {
      "cell_type": "code",
      "source": [
        "import os\n",
        "from PIL import Image,ImageFilter\n",
        "from PIL import Image, ImageEnhance\n",
        "\n",
        "f = \"/content/drive/MyDrive/dataset/train/pneumonia\"\n",
        "\n",
        "for file in os.listdir(f):\n",
        "    f_img = f+\"/\"+file\n",
        "    img = Image.open(os.path.join(f_img)).convert('L') \n",
        "    enhancer = ImageEnhance.Sharpness(img)\n",
        "    factor = 2\n",
        "    im_s_1 = enhancer.enhance(factor)\n",
        "    im_s_1.save(f_img) "
      ],
      "metadata": {
        "id": "MzSwJhDqdYA-"
      },
      "execution_count": null,
      "outputs": []
    },
    {
      "cell_type": "markdown",
      "source": [
        "**Getting The Region Of Interest from all the Images**"
      ],
      "metadata": {
        "id": "MOhgQXqMNjlK"
      }
    },
    {
      "cell_type": "code",
      "source": [
        "from skimage.color import rgb2gray\n",
        "import numpy as np\n",
        "import cv2\n",
        "import matplotlib.pyplot as plt\n",
        "%matplotlib inline\n",
        "from scipy import ndimage"
      ],
      "metadata": {
        "id": "FfQeTbTlWBJc"
      },
      "execution_count": null,
      "outputs": []
    },
    {
      "cell_type": "code",
      "source": [
        "from PIL import Image\n",
        "import os\n",
        " \n",
        "path = \"/content/drive/MyDrive/dataset/test/covid/\"\n",
        "copy_path = \"/content/drive/MyDrive/resize/test/c\"\n",
        "\n",
        "\n",
        "for filename in os.listdir(path):  \n",
        "  im = Image.open(os.path.join(path,filename))\n",
        "  left = 30\n",
        "  top = 150\n",
        "  right = 560\n",
        "  bottom = 500\n",
        "  im1 = im.crop((left, top, right, bottom))\n",
        "  im1.save(copy_path+filename)\n"
      ],
      "metadata": {
        "id": "z9OxRx13XO_f"
      },
      "execution_count": null,
      "outputs": []
    },
    {
      "cell_type": "code",
      "source": [
        "from PIL import Image\n",
        "import os\n",
        " \n",
        "path = \"/content/drive/MyDrive/dataset/test/PNEUMONIA\"\n",
        "copy_path = \"/content/drive/MyDrive/resize/test/p\"\n",
        "\n",
        "\n",
        "for filename in os.listdir(path):  \n",
        "  im = Image.open(os.path.join(path,filename))\n",
        "  left = 30\n",
        "  top = 150\n",
        "  right = 560\n",
        "  bottom = 500\n",
        "  im1 = im.crop((left, top, right, bottom))\n",
        "  im1.save(copy_path+filename)\n"
      ],
      "metadata": {
        "id": "QTSpqiY-ZpLr"
      },
      "execution_count": null,
      "outputs": []
    },
    {
      "cell_type": "code",
      "source": [
        "from PIL import Image\n",
        "import os\n",
        " \n",
        "path = \"/content/drive/MyDrive/dataset/test/NORMAL\"\n",
        "copy_path = \"/content/drive/MyDrive/resize/test/n\"\n",
        "\n",
        "\n",
        "for filename in os.listdir(path):  \n",
        "  im = Image.open(os.path.join(path,filename))\n",
        "  left = 30\n",
        "  top = 150\n",
        "  right = 560\n",
        "  bottom = 500\n",
        "  im1 = im.crop((left, top, right, bottom))\n",
        "  im1.save(copy_path+filename)\n"
      ],
      "metadata": {
        "id": "cwIO8zqWyz4V"
      },
      "execution_count": null,
      "outputs": []
    },
    {
      "cell_type": "code",
      "source": [
        "from PIL import Image\n",
        "import os\n",
        " \n",
        "path = \"/content/drive/MyDrive/dataset/train/covid\"\n",
        "copy_path = \"/content/drive/MyDrive/resize2/train/c\"\n",
        "\n",
        "\n",
        "for filename in os.listdir(path):  \n",
        "  im = Image.open(os.path.join(path,filename))\n",
        "  left = 30\n",
        "  top = 150\n",
        "  right = 560\n",
        "  bottom = 500\n",
        "  im1 = im.crop((left, top, right, bottom))\n",
        "  im1.save(copy_path+filename)\n"
      ],
      "metadata": {
        "id": "KXAjWARhyKND"
      },
      "execution_count": null,
      "outputs": []
    },
    {
      "cell_type": "code",
      "source": [
        "from PIL import Image\n",
        "import os\n",
        " \n",
        "path = \"/content/drive/MyDrive/dataset/train/normal\"\n",
        "copy_path = \"/content/drive/MyDrive/resize2/train/n\"\n",
        "\n",
        "\n",
        "for filename in os.listdir(path):  \n",
        "  im = Image.open(os.path.join(path,filename))\n",
        "  left = 30\n",
        "  top = 150\n",
        "  right = 560\n",
        "  bottom = 500\n",
        "  im1 = im.crop((left, top, right, bottom))\n",
        "  im1.save(copy_path+filename)\n"
      ],
      "metadata": {
        "id": "K2R2B2t8zJ4n"
      },
      "execution_count": null,
      "outputs": []
    },
    {
      "cell_type": "code",
      "source": [
        "from PIL import Image\n",
        "import os\n",
        " \n",
        "path = \"/content/drive/MyDrive/dataset/train/pneumonia\"\n",
        "copy_path = \"/content/drive/MyDrive/resize2/train/p\"\n",
        "\n",
        "\n",
        "for filename in os.listdir(path):  \n",
        "  im = Image.open(os.path.join(path,filename))\n",
        "  left = 30\n",
        "  top = 150\n",
        "  right = 560\n",
        "  bottom = 500\n",
        "  im1 = im.crop((left, top, right, bottom))\n",
        "  im1.save(copy_path+filename)\n"
      ],
      "metadata": {
        "id": "b7tCLa890z-P"
      },
      "execution_count": null,
      "outputs": []
    },
    {
      "cell_type": "markdown",
      "source": [
        "**Extracting Texture Features from the GLCM**"
      ],
      "metadata": {
        "id": "JZt9Qx6AOK_R"
      }
    },
    {
      "cell_type": "code",
      "source": [
        "import numpy as np \n",
        "import cv2 \n",
        "import os\n",
        "import re\n",
        "import pandas as pd\n",
        "\n",
        "# -------------------- Utility function ------------------------\n",
        "def normalize_label(str_):\n",
        "    str_ = str_.replace(\" \", \"\")\n",
        "    str_ = str_.translate(str_.maketrans(\"\",\"\", \"()\"))\n",
        "    str_ = str_.split(\"_\")\n",
        "    return ''.join(str_[:2])\n",
        "\n",
        "def normalize_desc(folder, sub_folder):\n",
        "    text = folder + \" - \" + sub_folder \n",
        "    text = re.sub(r'\\d+', '', text)\n",
        "    text = text.replace(\".\", \"\")\n",
        "    text = text.strip()\n",
        "    return text\n",
        "\n",
        "def print_progress(val, val_len, folder, sub_folder, filename, bar_size=10):\n",
        "    progr = \"#\"*round((val)*bar_size/val_len) + \" \"*round((val_len - (val))*bar_size/val_len)\n",
        "    if val == 0:\n",
        "        print(\"\", end = \"\\n\")\n",
        "    else:\n",
        "        print(\"[%s] folder : %s/%s/ ----> file : %s\" % (progr, folder, sub_folder, filename), end=\"\\r\")\n",
        "        \n",
        "dataset_dir = \"/content/drive/MyDrive/resize\" \n",
        "\n",
        "imgs = [] #list image matrix \n",
        "labels = []\n",
        "descs = []\n",
        "for folder in os.listdir(dataset_dir):\n",
        "    for sub_folder in os.listdir(os.path.join(dataset_dir, folder)):\n",
        "        sub_folder_files = os.listdir(os.path.join(dataset_dir, folder, sub_folder))\n",
        "        len_sub_folder = len(sub_folder_files) - 1\n",
        "        for i, filename in enumerate(sub_folder_files):\n",
        "            img = cv2.imread(os.path.join(dataset_dir, folder, sub_folder, filename))\n",
        "            \n",
        "            gray = cv2.cvtColor(img, cv2.COLOR_BGR2GRAY)\n",
        "            \n",
        "            #h, w = gray.shape\n",
        "            #ymin, ymax, xmin, xmax = h//3, h*2//3, w//3, w*2//3\n",
        "            #crop = gray[ymin:ymax, xmin:xmax]\n",
        "            \n",
        "            #resize = cv2.resize(crop, (0,0), fx=0.5, fy=0.5)\n",
        "            \n",
        "            imgs.append(gray)\n",
        "            labels.append(normalize_label(os.path.splitext(filename)[0]))\n",
        "            descs.append(normalize_desc(folder, sub_folder))\n",
        "            \n",
        "            print_progress(i, len_sub_folder, folder, sub_folder, filename)\n",
        "from skimage.feature import greycomatrix, greycoprops\n",
        "\n",
        "# ----------------- calculate greycomatrix() & greycoprops() for angle 0, 45, 90, 135 ----------------------------------\n",
        "def calc_glcm_all_agls(img, label, props, dists=[1], agls=[0, np.pi/4, np.pi/2, 3*np.pi/4], lvl=256, sym=True, norm=True):\n",
        "    \n",
        "    glcm = greycomatrix(img, \n",
        "                        distances=dists, \n",
        "                        angles=agls, \n",
        "                        levels=lvl,\n",
        "                        symmetric=sym, \n",
        "                        normed=norm)\n",
        "    feature = []\n",
        "    glcm_props = [propery for name in props for propery in greycoprops(glcm, name)[0]]\n",
        "    for item in glcm_props:\n",
        "            feature.append(item)\n",
        "    feature.append(label) \n",
        "    \n",
        "    return feature\n",
        "properties = ['dissimilarity', 'correlation', 'homogeneity', 'contrast', 'ASM', 'energy']\n",
        "\n",
        "glcm_all_agls = []\n",
        "for img, label in zip(imgs, labels): \n",
        "    glcm_all_agls.append(\n",
        "            calc_glcm_all_agls(img, \n",
        "                                label, \n",
        "                                props=properties)\n",
        "                            )\n",
        " \n",
        "columns = []\n",
        "angles = ['0', '45','90','135']\n",
        "for name in properties :\n",
        "    for ang in angles:\n",
        "        columns.append(name + \"_\" + ang)\n",
        "        \n",
        "columns.append(\"image\")"
      ],
      "metadata": {
        "colab": {
          "base_uri": "https://localhost:8080/"
        },
        "id": "iPeOGtLtHqcV",
        "outputId": "a45c6461-770f-4533-f0d7-f4fc68910965"
      },
      "execution_count": null,
      "outputs": [
        {
          "output_type": "stream",
          "name": "stdout",
          "text": [
            "\n",
            "\n",
            "\n",
            "\n",
            "\n",
            "[##########] folder : train/p/ ----> file : pperson124_virus_237.jpeg\n"
          ]
        }
      ]
    },
    {
      "cell_type": "code",
      "source": [
        "import pandas as pd \n",
        "\n",
        "# Create the pandas DataFrame for GLCM features data\n",
        "glcm_df = pd.DataFrame(glcm_all_agls, \n",
        "                      columns = columns)\n",
        "\n",
        "glcm_df.head(70)"
      ],
      "metadata": {
        "id": "AK7Ah9EjH6Qv"
      },
      "execution_count": null,
      "outputs": []
    },
    {
      "cell_type": "code",
      "source": [
        "glcm_df.to_csv(\"final.csv\")"
      ],
      "metadata": {
        "id": "KXJhDMn-IlMG"
      },
      "execution_count": null,
      "outputs": []
    },
    {
      "cell_type": "code",
      "source": [
        "!pip install pandas sklearn"
      ],
      "metadata": {
        "colab": {
          "base_uri": "https://localhost:8080/"
        },
        "id": "QAPqk5lmE3Hq",
        "outputId": "0dd00052-0abb-442d-ea25-c932bd842812"
      },
      "execution_count": null,
      "outputs": [
        {
          "output_type": "stream",
          "name": "stdout",
          "text": [
            "Looking in indexes: https://pypi.org/simple, https://us-python.pkg.dev/colab-wheels/public/simple/\n",
            "Requirement already satisfied: pandas in /usr/local/lib/python3.7/dist-packages (1.3.5)\n",
            "Requirement already satisfied: sklearn in /usr/local/lib/python3.7/dist-packages (0.0)\n",
            "Requirement already satisfied: python-dateutil>=2.7.3 in /usr/local/lib/python3.7/dist-packages (from pandas) (2.8.2)\n",
            "Requirement already satisfied: numpy>=1.17.3 in /usr/local/lib/python3.7/dist-packages (from pandas) (1.21.6)\n",
            "Requirement already satisfied: pytz>=2017.3 in /usr/local/lib/python3.7/dist-packages (from pandas) (2022.1)\n",
            "Requirement already satisfied: six>=1.5 in /usr/local/lib/python3.7/dist-packages (from python-dateutil>=2.7.3->pandas) (1.15.0)\n",
            "Requirement already satisfied: scikit-learn in /usr/local/lib/python3.7/dist-packages (from sklearn) (1.0.2)\n",
            "Requirement already satisfied: scipy>=1.1.0 in /usr/local/lib/python3.7/dist-packages (from scikit-learn->sklearn) (1.7.3)\n",
            "Requirement already satisfied: joblib>=0.11 in /usr/local/lib/python3.7/dist-packages (from scikit-learn->sklearn) (1.1.0)\n",
            "Requirement already satisfied: threadpoolctl>=2.0.0 in /usr/local/lib/python3.7/dist-packages (from scikit-learn->sklearn) (3.1.0)\n"
          ]
        }
      ]
    },
    {
      "cell_type": "markdown",
      "source": [
        "**Applying SVM Algorithm for the extracted features**"
      ],
      "metadata": {
        "id": "AwrqAbImOast"
      }
    },
    {
      "cell_type": "code",
      "source": [
        "import pandas as pd\n",
        "from sklearn.model_selection import train_test_split\n",
        "from sklearn.svm import SVC\n",
        "from sklearn.metrics import confusion_matrix\n",
        "import seaborn as sns\n",
        "import matplotlib.pyplot as plt"
      ],
      "metadata": {
        "id": "Th16ELFPE8yb"
      },
      "execution_count": null,
      "outputs": []
    },
    {
      "cell_type": "code",
      "source": [
        "dataset_url = \"/content/drive/MyDrive/final - final - final - final.csv\"\n",
        "deep = pd.read_csv(dataset_url)\n",
        "deep"
      ],
      "metadata": {
        "id": "XYbYuTiDFBV2"
      },
      "execution_count": null,
      "outputs": []
    },
    {
      "cell_type": "code",
      "source": [
        "X = deep.drop(['Labels'], axis = 'columns')\n",
        "y = deep.Labels"
      ],
      "metadata": {
        "id": "MlI7950KFSgC"
      },
      "execution_count": null,
      "outputs": []
    },
    {
      "cell_type": "code",
      "source": [
        "X_train, X_test, y_train, y_test = train_test_split(X, y, test_size= 0.2,random_state = None)"
      ],
      "metadata": {
        "id": "uVJfBUZIFs-M"
      },
      "execution_count": null,
      "outputs": []
    },
    {
      "cell_type": "code",
      "source": [
        "model = SVC(kernel = 'rbf', C = 1)"
      ],
      "metadata": {
        "id": "BuvKHLWpFxUf"
      },
      "execution_count": null,
      "outputs": []
    },
    {
      "cell_type": "code",
      "source": [
        "model.fit(X_train, y_train)\n"
      ],
      "metadata": {
        "colab": {
          "base_uri": "https://localhost:8080/"
        },
        "id": "dApc4XmVF17N",
        "outputId": "163a51e6-5a0c-4cf8-d345-d72dc57305c7"
      },
      "execution_count": null,
      "outputs": [
        {
          "output_type": "execute_result",
          "data": {
            "text/plain": [
              "SVC(C=1)"
            ]
          },
          "metadata": {},
          "execution_count": 87
        }
      ]
    },
    {
      "cell_type": "code",
      "source": [
        "model.predict(X_train)"
      ],
      "metadata": {
        "id": "WqbSO-NdZYBX",
        "colab": {
          "base_uri": "https://localhost:8080/"
        },
        "outputId": "fc5c493a-4c45-4268-af08-aab221dcb724"
      },
      "execution_count": null,
      "outputs": [
        {
          "output_type": "execute_result",
          "data": {
            "text/plain": [
              "array([3, 2, 2, ..., 1, 2, 3])"
            ]
          },
          "metadata": {},
          "execution_count": 88
        }
      ]
    },
    {
      "cell_type": "code",
      "source": [
        "svm_pred = model.predict(X_test)"
      ],
      "metadata": {
        "id": "-UtOTKJCHPlN"
      },
      "execution_count": null,
      "outputs": []
    },
    {
      "cell_type": "code",
      "source": [
        "print(svm_pred)"
      ],
      "metadata": {
        "id": "jdZtE0QaJU9g"
      },
      "execution_count": null,
      "outputs": []
    },
    {
      "cell_type": "code",
      "source": [
        "accuracy = (model.score(X_test, y_test)*100)\n",
        "accuracy"
      ],
      "metadata": {
        "colab": {
          "base_uri": "https://localhost:8080/"
        },
        "id": "gYtYu__hViVi",
        "outputId": "7250cc59-50de-420a-9909-79c58b593e47"
      },
      "execution_count": null,
      "outputs": [
        {
          "output_type": "execute_result",
          "data": {
            "text/plain": [
              "90.32258064516128"
            ]
          },
          "metadata": {},
          "execution_count": 101
        }
      ]
    },
    {
      "cell_type": "code",
      "source": [
        "#accuracy = (model.score(X_test, y_test)*100)\n",
        "print(model.score(X_train, y_train))\n",
        "print(model.score(X_test, y_test))\n",
        "#accuracy"
      ],
      "metadata": {
        "colab": {
          "base_uri": "https://localhost:8080/"
        },
        "id": "BDmKXFs4HURe",
        "outputId": "dc6044f6-71d9-4f6d-b757-750855511990"
      },
      "execution_count": null,
      "outputs": [
        {
          "output_type": "stream",
          "name": "stdout",
          "text": [
            "0.9093851132686084\n",
            "0.9032258064516129\n"
          ]
        }
      ]
    },
    {
      "cell_type": "code",
      "source": [
        "cm1 = confusion_matrix(y_test, svm_pred)"
      ],
      "metadata": {
        "id": "75S_OrpsV1FM"
      },
      "execution_count": null,
      "outputs": []
    },
    {
      "cell_type": "markdown",
      "source": [
        "Confusion Matrix with Heat map"
      ],
      "metadata": {
        "id": "1fNy-bwWuMIw"
      }
    },
    {
      "cell_type": "code",
      "source": [
        "cm_df = pd.DataFrame(cm1,\n",
        "                     index = ['Covid','Pneumonia','Normal'], \n",
        "                     columns = ['Covid','Pneumonia','Normal'])"
      ],
      "metadata": {
        "id": "9cBuuPxPUCpR"
      },
      "execution_count": null,
      "outputs": []
    },
    {
      "cell_type": "code",
      "source": [
        "plt.figure(figsize=(5,4))\n",
        "sns.heatmap(cm_df, annot=True)\n",
        "plt.title('Confusion Matrix')\n",
        "plt.ylabel('Actal Values')\n",
        "plt.xlabel('Predicted Values')\n",
        "plt.show()"
      ],
      "metadata": {
        "id": "PhWKZrEvUZbP"
      },
      "execution_count": null,
      "outputs": []
    },
    {
      "cell_type": "markdown",
      "source": [
        "Confusion matrix with real values "
      ],
      "metadata": {
        "id": "XW2c5COfuhyp"
      }
    },
    {
      "cell_type": "code",
      "source": [
        "from mlxtend.plotting import plot_confusion_matrix\n",
        " \n",
        "fig, ax = plot_confusion_matrix(conf_mat=cm1, figsize=(5, 5), cmap=plt.cm.Greens)\n",
        "plt.xlabel('Predictions', fontsize=18)\n",
        "plt.ylabel('Actuals', fontsize=18)\n",
        "plt.title('Confusion Matrix', fontsize=18)\n",
        "plt.show()"
      ],
      "metadata": {
        "colab": {
          "base_uri": "https://localhost:8080/",
          "height": 375
        },
        "id": "ZZZikcRgtRx0",
        "outputId": "d1e1c343-6a98-49dd-8545-47ad5befa168"
      },
      "execution_count": null,
      "outputs": [
        {
          "output_type": "display_data",
          "data": {
            "text/plain": [
              "<Figure size 360x360 with 1 Axes>"
            ],
            "image/png": "[encoded data removed]"
          },
          "metadata": {
            "needs_background": "light"
          }
        }
      ]
    },
    {
      "cell_type": "code",
      "source": [
        "#TP+TN = 280(Addition of all diagonal elements)\n",
        "#FN+FN+TP+TN = 310 #(addition of all elements in confusion matrix)\n",
        "Accuracy = ((TP+TN)/(TP+TN+FP+FN))*100\n",
        "print(Accuracy)"
      ],
      "metadata": {
        "colab": {
          "base_uri": "https://localhost:8080/",
          "height": 134
        },
        "id": "ZnH1sAS-uuTy",
        "outputId": "94e76558-891d-42bd-cdf4-69532d7fb3a3"
      },
      "execution_count": null,
      "outputs": [
        {
          "output_type": "error",
          "ename": "SyntaxError",
          "evalue": "ignored",
          "traceback": [
            "\u001b[0;36m  File \u001b[0;32m\"<ipython-input-100-ece369ea8e52>\"\u001b[0;36m, line \u001b[0;32m1\u001b[0m\n\u001b[0;31m    TP+TN = 280#(Addition of all diagonal elements)\u001b[0m\n\u001b[0m                                                   ^\u001b[0m\n\u001b[0;31mSyntaxError\u001b[0m\u001b[0;31m:\u001b[0m can't assign to operator\n"
          ]
        }
      ]
    }
  ]
}